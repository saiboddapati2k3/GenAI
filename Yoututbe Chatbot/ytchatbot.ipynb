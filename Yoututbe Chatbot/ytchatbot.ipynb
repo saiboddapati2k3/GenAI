{
 "cells": [
  {
   "cell_type": "code",
   "execution_count": 14,
   "id": "ef8b2a76",
   "metadata": {},
   "outputs": [],
   "source": [
    "from youtube_transcript_api import YouTubeTranscriptApi, TranscriptsDisabled\n",
    "from langchain.text_splitter import RecursiveCharacterTextSplitter\n",
    "from langchain_openai import OpenAIEmbeddings, ChatOpenAI\n",
    "from langchain_community.vectorstores import FAISS\n",
    "from youtube_transcript_api._errors import TranscriptsDisabled\n",
    "\n",
    "from langchain_core.prompts import PromptTemplate"
   ]
  },
  {
   "cell_type": "code",
   "execution_count": null,
   "id": "2f5bfc58",
   "metadata": {},
   "outputs": [
    {
     "name": "stdout",
     "output_type": "stream",
     "text": [
      "Transcript URL: https://www.youtube.com/api/timedtext?v=4Bdc55j80l8&ei=o2GKaIvBJLWd4t4PhbGG-Q4&caps=asr&opi=112496729&exp=xpe&xoaf=5&hl=en&ip=0.0.0.0&ipbits=0&expire=1753924627&sparams=ip,ipbits,expire,v,ei,caps,opi,exp,xoaf&signature=A60DDB99117D79A992CB6DE94DBD45E97D1F67A9.935382340BCE464761D2E5B652CC501CEBFFD6FE&key=yt8&kind=asr&lang=en\n"
     ]
    }
   ],
   "source": [
    "from youtube_transcript_api import YouTubeTranscriptApi\n",
    "\n",
    "video_id = 'Gfr50f6ZBvo'\n",
    "\n",
    "transcript = YouTubeTranscriptApi.get_transcript(video_id, languages=['en'])\n",
    "\n",
    "for entry in transcript:\n",
    "    print(entry['text'])\n"
   ]
  }
 ],
 "metadata": {
  "kernelspec": {
   "display_name": "venv",
   "language": "python",
   "name": "python3"
  },
  "language_info": {
   "codemirror_mode": {
    "name": "ipython",
    "version": 3
   },
   "file_extension": ".py",
   "mimetype": "text/x-python",
   "name": "python",
   "nbconvert_exporter": "python",
   "pygments_lexer": "ipython3",
   "version": "3.12.7"
  }
 },
 "nbformat": 4,
 "nbformat_minor": 5
}
